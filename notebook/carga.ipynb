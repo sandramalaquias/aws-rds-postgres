{
 "cells": [
  {
   "metadata": {
    "ExecuteTime": {
     "end_time": "2024-12-16T20:11:43.699918Z",
     "start_time": "2024-12-16T20:11:42.599526Z"
    }
   },
   "cell_type": "code",
   "source": [
    "import boto3\n",
    "import json\n",
    "import os\n",
    "import pandas as pd\n",
    "import requests\n",
    "import psycopg2\n",
    "from pandas.core.dtypes.common import infer_dtype_from_object\n",
    "\n",
    "boto3_session = boto3.session.Session(region_name='us-east-1')\n",
    "s3_client = boto3_session.client(\"s3\")\n",
    "\n",
    "# Get environment variable to run in the code\n",
    "os.environ[\"BUCKET_NAME\"] = \"techschools\"\n",
    "os.environ['RDS_JSON'] = \"schools.json\"\n"
   ],
   "id": "1e844dc568411541",
   "outputs": [],
   "execution_count": 1
  },
  {
   "metadata": {
    "ExecuteTime": {
     "end_time": "2024-12-16T20:11:43.710945Z",
     "start_time": "2024-12-16T20:11:43.706136Z"
    }
   },
   "cell_type": "code",
   "source": [
    "def getRDS():\n",
    "    bucket_name = os.getenv('BUCKET_NAME')\n",
    "    file_key = os.getenv('RDS_JSON')\n",
    "\n",
    "    if not (bucket_name or file_key):\n",
    "        raise RuntimeError(f\"bucket_name e key credentials not found\")\n",
    "\n",
    "    try:\n",
    "       response = s3_client.get_object(Bucket=bucket_name, Key=file_key)\n",
    "       content = response[\"Body\"].read().decode(\"utf-8\")\n",
    "       rds = json.loads(content)\n",
    "\n",
    "    except Exception as e:\n",
    "        raise RuntimeError(f\"Error in read file on AWS S3: file {file_key} do bucket {bucket_name}: {str(e)}\")\n",
    "\n",
    "    db_config = {\n",
    "    \"dbname\": rds['RDS_DB_NAME'],\n",
    "    \"user\": rds['RDS_USER'],\n",
    "    \"password\": rds['RDS_PASSWORD'],\n",
    "    \"host\": rds['RDS_ENDPOINT'].split(\":\")[0],\n",
    "    \"port\": rds['RDS_PORT'],\n",
    "}\n",
    "    return db_config"
   ],
   "id": "8bfcc5d8b16925e",
   "outputs": [],
   "execution_count": 2
  },
  {
   "metadata": {
    "ExecuteTime": {
     "end_time": "2024-12-16T20:11:43.822724Z",
     "start_time": "2024-12-16T20:11:43.818676Z"
    }
   },
   "cell_type": "code",
   "source": [
    "def getDataURL():\n",
    "\n",
    "    # API URL\n",
    "    url = \"https://olinda.mec.gov.br/olinda-ide/servico/PDA_SETEC/versao/v1/odata/Regulacao_Cursos\"\n",
    "\n",
    "    # Requests get Data\n",
    "    response = requests.get(url)\n",
    "\n",
    "    # Check status\n",
    "    if response.status_code == 200:\n",
    "        data = response.json()  # Converte para dicionário Python\n",
    "\n",
    "        # Convert to pandas datafraee\n",
    "        df = pd.DataFrame(data[\"value\"])\n",
    "\n",
    "    else:\n",
    "        raise RuntimeError(f\"Error to get Data via API {url} - {response}, {response.raise_for_status()}, {response.reason}\")\n",
    "\n",
    "    return df\n",
    "\n",
    "\n",
    "def getDataLocal():\n",
    "    df = pd.read_csv('../Regulacao_Cursos.csv', encoding='UTF-8')\n",
    "\n",
    "    # path to RDS credentials\n",
    "    file_path = \"../rds.json\"\n",
    "\n",
    "    with open(file_path, \"r\") as file:\n",
    "        rds = json.load(file)\n",
    "\n",
    "    db_config = {\n",
    "    \"dbname\": rds['RDS_DB_NAME'],\n",
    "    \"user\": rds['RDS_USER'],\n",
    "    \"password\": rds['RDS_PASSWORD'],\n",
    "    \"host\": rds['RDS_ENDPOINT'].split(\":\")[0],\n",
    "    \"port\": rds['RDS_PORT'],\n",
    "}\n",
    "\n",
    "    return df, db_config\n",
    "\n"
   ],
   "id": "6c114b5b499430ff",
   "outputs": [],
   "execution_count": 3
  },
  {
   "metadata": {
    "ExecuteTime": {
     "end_time": "2024-12-16T20:11:43.862940Z",
     "start_time": "2024-12-16T20:11:43.858838Z"
    }
   },
   "cell_type": "code",
   "source": [
    "def newCols(df, df_state):\n",
    "    df.drop_duplicates(inplace=True)\n",
    "\n",
    "    # workload minimum\n",
    "    group_col = ['CODIGO_CURSO']\n",
    "    df['CARGA_HORARIA_MINIMA'] = df.groupby(group_col)['CARGA_HORARIA_CURSO'].transform('min')\n",
    "\n",
    "    # refatoring STATUS_ATIVO\n",
    "    df['STATUS'] = 'não'  # default\n",
    "    df['STATUS'] = df['STATUS'].where(df['SITUACAO_ATIVO'] == 't', 'sim')\n",
    "\n",
    "    #complment with state data\n",
    "    df = df.merge(df_state[['state_flag', 'state_ibge', 'state_name']], left_on='UF', right_on='state_flag', how='inner')\n",
    "\n",
    "    # Normalizing 'UNIDADE_DE_ENSINO'\n",
    "    df['UNIDADE_DE_ENSINO_NORM'] = df['UNIDADE_DE_ENSINO'].apply(\n",
    "    lambda school: school.replace(\"\\\\\", '').replace(\"'\", \"’\").upper() if \"'\" in school or \"\\\\\" in school else school.upper())\n",
    "\n",
    "    return df"
   ],
   "id": "953491a7e626835a",
   "outputs": [],
   "execution_count": 4
  },
  {
   "metadata": {
    "ExecuteTime": {
     "end_time": "2024-12-16T20:11:43.915201Z",
     "start_time": "2024-12-16T20:11:43.908276Z"
    }
   },
   "cell_type": "code",
   "source": [
    "def getState():\n",
    "    state_list = [[11,'RO','Rondônia','rondonia','N','Norte','norte'],\n",
    "    [12,'AC','Acre','acre','N','Norte','norte'],\n",
    "    [13,'AM','Amazonas','amazonas','N','Norte','norte'],\n",
    "    [14,'RR','Roraima','roraima','N','Norte','norte'],\n",
    "    [15,'PA','Pará','para','N','Norte','norte'],\n",
    "    [16,'AP','Amapá','amapa','N','Norte','norte'],\n",
    "    [17,'TO','Tocantins','tocantins','N','Norte','norte'],\n",
    "    [21,'MA','Maranhão','maranhao','NE','Nordeste','nordeste'],\n",
    "    [22,'PI','Piauí','piaui','NE','Nordeste','nordeste'],\n",
    "    [23,'CE','Ceará','ceara','NE','Nordeste','nordeste'],\n",
    "    [24,'RN','Rio Grande do Norte','riograndedonorte','NE','Nordeste','nordeste'],\n",
    "    [25,'PB','Paraíba','paraiba','NE','Nordeste','nordeste'],\n",
    "    [26,'PE','Pernambuco','pernambuco','NE','Nordeste','nordeste'],\n",
    "    [27,'AL','Alagoas','alagoas','NE','Nordeste','nordeste'],\n",
    "    [28,'SE','Sergipe','sergipe','NE','Nordeste','nordeste'],\n",
    "    [29,'BA','Bahia','bahia','NE','Nordeste','nordeste'],\n",
    "    [31,'MG','Minas Gerais','minasgerais','SE','Sudeste','sudeste'],\n",
    "    [32,'ES','Espírito Santo','espiritosanto','SE','Sudeste','sudeste'],\n",
    "    [33,'RJ','Rio de Janeiro','riodejaneiro','SE','Sudeste','sudeste'],\n",
    "    [35,'SP','São Paulo','saopaulo','SE','Sudeste','sudeste'],\n",
    "    [41,'PR','Paraná','parana','S','Sul','sul'],\n",
    "    [42,'SC','Santa Catarina','santacatarina','S','Sul','sul'],\n",
    "    [43,'RS','Rio Grande do Sul','riograndedosul','S','Sul','sul'],\n",
    "    [50,'MS','Mato Grosso do Sul','matogrossodosul','CO','Centro-Oeste','centrooeste'],\n",
    "    [51,'MT','Mato Grosso','matogrosso','CO','Centro-Oeste','centrooeste'],\n",
    "    [52,'GO','Goiás','goias','CO','Centro-Oeste','centrooeste'],\n",
    "    [53,'DF','Distrito Federal','distritofederal','CO','Centro-Oeste','centrooeste']]\n",
    "\n",
    "    state_columns = [\"state_ibge\",\"state_flag\", \"state_name\", \"state_name_norm\", \"region_flag\", \"region_name\", \"region_name_norm\"]\n",
    "\n",
    "    df_state = df = pd.DataFrame(state_list, columns=state_columns)\n",
    "    df_state = df_state[['state_flag', 'state_ibge', 'state_name']]\n",
    "\n",
    "    return df_state\n"
   ],
   "id": "9b4f6f46febd99ab",
   "outputs": [],
   "execution_count": 5
  },
  {
   "metadata": {
    "ExecuteTime": {
     "end_time": "2024-12-16T20:11:43.964054Z",
     "start_time": "2024-12-16T20:11:43.960085Z"
    }
   },
   "cell_type": "code",
   "source": [
    "def courseType(df, cur):\n",
    "\n",
    "    if len(df['NOME_SUBTIPO_DE_CURSOS'].unique())== 1:\n",
    "        values = df['NOME_SUBTIPO_DE_CURSOS'].unique()[0]\n",
    "    else:\n",
    "       list_values = (x for x in df['NOME_SUBTIPO_DE_CURSOS'].unique())\n",
    "       result = tuple((x,) for x in list_values)\n",
    "       values = str(result).replace(',)',')').replace('((', '').replace('))', '')\n",
    "\n",
    "    # Define the SQL INSERT query with ON CONFLICT DO UPDATE and RETURNING\n",
    "    table_insert = f\"\"\"\n",
    "    INSERT INTO course_type (name)\n",
    "    VALUES ('{values}')\n",
    "    ON CONFLICT (name) DO UPDATE\n",
    "    SET name = EXCLUDED.name\n",
    "    RETURNING name, course_type_pk;\n",
    "    \"\"\"\n",
    "\n",
    "    cur.execute(table_insert)\n",
    "\n",
    "    # Convert the query result to DataFrame\n",
    "    query_results = cur.fetchall()\n",
    "    result_df = pd.DataFrame(query_results, columns=[\"NOME_SUBTIPO_DE_CURSOS\", \"course_type_pk\"])\n",
    "\n",
    "    # Update the original DataFrame with ID's\n",
    "    df = df.merge(result_df, on=\"NOME_SUBTIPO_DE_CURSOS\", how=\"inner\")\n",
    "\n",
    "    return df\n"
   ],
   "id": "9e6871013a132192",
   "outputs": [],
   "execution_count": 6
  },
  {
   "metadata": {
    "ExecuteTime": {
     "end_time": "2024-12-16T20:11:44.021139Z",
     "start_time": "2024-12-16T20:11:44.016817Z"
    }
   },
   "cell_type": "code",
   "source": [
    "def axisTech(df, cur):\n",
    "\n",
    "    if len(df['EIXO_TECNOLOGICO'].unique())== 1:\n",
    "        values = df['EIXO_TECNOLOGICO'].unique()[0]\n",
    "    else:\n",
    "       list_values = (x for x in df['EIXO_TECNOLOGICO'].unique())\n",
    "       result = tuple((x,) for x in list_values)\n",
    "       values = str(result).replace(',)',')').replace('((', '').replace('))', '')\n",
    "\n",
    "\n",
    "    # Define the SQL INSERT query with ON CONFLICT DO UPDATE and RETURNING\n",
    "    table_insert = f\"\"\"\n",
    "    INSERT INTO tech_axis (name)\n",
    "    VALUES ({values})\n",
    "    ON CONFLICT (name) DO UPDATE\n",
    "    SET name = EXCLUDED.name\n",
    "    RETURNING name, tech_axis_pk;\n",
    "    \"\"\"\n",
    "\n",
    "    cur.execute(table_insert)\n",
    "\n",
    "    # Convert the query result to DataFrame\n",
    "    query_results = cur.fetchall()\n",
    "    result_df = pd.DataFrame(query_results, columns=[\"EIXO_TECNOLOGICO\", \"tech_axis_pk\"])\n",
    "\n",
    "    # Update the original DataFrame with ID's\n",
    "    df = df.merge(result_df, on=\"EIXO_TECNOLOGICO\", how=\"inner\")\n",
    "\n",
    "    return df\n"
   ],
   "id": "bd52d7b66059f5c1",
   "outputs": [],
   "execution_count": 7
  },
  {
   "metadata": {
    "ExecuteTime": {
     "end_time": "2024-12-16T20:11:44.065366Z",
     "start_time": "2024-12-16T20:11:44.060747Z"
    }
   },
   "cell_type": "code",
   "source": [
    "def modal(df, cur):\n",
    "\n",
    "    if len(df['MODALIDADE'].unique())== 1:\n",
    "        values = df['MODALIDADE'].unique()[0]\n",
    "    else:\n",
    "       list_values = (x for x in df['MODALIDADE'].unique())\n",
    "       result = tuple((x,) for x in list_values)\n",
    "       values = str(result).replace(',)',')').replace('((', '').replace('))', '')\n",
    "\n",
    "\n",
    "    # Define the SQL INSERT query with ON CONFLICT DO UPDATE and RETURNING\n",
    "    table_insert = f\"\"\"\n",
    "    INSERT INTO modal (name)\n",
    "    VALUES ({values})\n",
    "    ON CONFLICT (name) DO UPDATE\n",
    "    SET name = EXCLUDED.name\n",
    "    RETURNING name, modal_pk;\n",
    "    \"\"\"\n",
    "\n",
    "    cur.execute(table_insert)\n",
    "\n",
    "    # Convert the query result to DataFrame\n",
    "    query_results = cur.fetchall()\n",
    "    result_df = pd.DataFrame(query_results, columns=[\"MODALIDADE\", \"modal_pk\"])\n",
    "\n",
    "    # Update the original DataFrame with ID's\n",
    "    df = df.merge(result_df, on=\"MODALIDADE\", how=\"inner\")\n",
    "\n",
    "    return df\n",
    "\n"
   ],
   "id": "1714718c2254ab0",
   "outputs": [],
   "execution_count": 8
  },
  {
   "metadata": {
    "ExecuteTime": {
     "end_time": "2024-12-16T20:11:44.114036Z",
     "start_time": "2024-12-16T20:11:44.110112Z"
    }
   },
   "cell_type": "code",
   "source": [
    "def state(df, cur):\n",
    "    list_col = ['state_flag', 'state_ibge', 'state_name']\n",
    "    list_of_tuples = list(df[list_col].drop_duplicates().itertuples(index=False, name=None))\n",
    "    values = str(list_of_tuples).replace('[', '').replace(']', '')\n",
    "\n",
    "    # Define the SQL INSERT query with ON CONFLICT DO UPDATE and RETURNING\n",
    "    table_insert = f\"\"\"\n",
    "    INSERT INTO state (cod_uf, cod_ibge, name)\n",
    "    VALUES {values}\n",
    "    ON CONFLICT (cod_uf) DO UPDATE\n",
    "    SET cod_uf = EXCLUDED.cod_uf\n",
    "    RETURNING cod_uf, state_pk;\n",
    "    \"\"\"\n",
    "\n",
    "    cur.execute(table_insert)\n",
    "\n",
    "    # Convert the query result to DataFrame\n",
    "    query_results = cur.fetchall()\n",
    "    result_df = pd.DataFrame(query_results, columns=[\"state_flag\", \"state_pk\"])\n",
    "\n",
    "    # Update the original DataFrame with ID's\n",
    "    df = df.merge(result_df, on=\"state_flag\", how=\"inner\")\n",
    "\n",
    "    return df\n"
   ],
   "id": "99e743b725ca785b",
   "outputs": [],
   "execution_count": 9
  },
  {
   "metadata": {
    "ExecuteTime": {
     "end_time": "2024-12-16T20:11:44.165151Z",
     "start_time": "2024-12-16T20:11:44.159477Z"
    }
   },
   "cell_type": "code",
   "source": [
    "def city(df, cur):\n",
    "\n",
    "    list_col = ['CODIGO_MUNICIPIO', 'MUNICIPIO', 'state_pk']\n",
    "    list_of_tuples = list(df[list_col].drop_duplicates().itertuples(index=False, name=None))\n",
    "    values = str(list_of_tuples).replace('[', '').replace(']', '')\n",
    "\n",
    "    # Define the SQL INSERT query with ON CONFLICT DO UPDATE and RETURNING\n",
    "    table_insert = f\"\"\"\n",
    "    INSERT INTO city (cod_ibge, name, state_fk)\n",
    "    VALUES {values}\n",
    "    ON CONFLICT (cod_ibge) DO UPDATE\n",
    "    SET cod_ibge = EXCLUDED.cod_ibge\n",
    "    RETURNING cod_ibge, city_pk;\n",
    "    \"\"\"\n",
    "\n",
    "    cur.execute(table_insert)\n",
    "\n",
    "    # Convert the query result to DataFrame\n",
    "    query_results = cur.fetchall()\n",
    "    result_df = pd.DataFrame(query_results, columns=[\"CODIGO_MUNICIPIO\", \"city_pk\"])\n",
    "\n",
    "    # Update the original DataFrame with ID's\n",
    "    df = df.merge(result_df, on=\"CODIGO_MUNICIPIO\", how=\"inner\")\n",
    "\n",
    "    return df, result_df, query_results\n",
    "\n"
   ],
   "id": "8cbaccee631cd5ac",
   "outputs": [],
   "execution_count": 10
  },
  {
   "metadata": {
    "ExecuteTime": {
     "end_time": "2024-12-16T20:11:44.213601Z",
     "start_time": "2024-12-16T20:11:44.209561Z"
    }
   },
   "cell_type": "code",
   "source": [
    "def course(df,cor):\n",
    "\n",
    "    list_col = ['CODIGO_CURSO', 'CURSO', 'CARGA_HORARIA_MINIMA', 'tech_axis_pk', 'course_type_pk']\n",
    "\n",
    "    list_of_tuples = list(df[list_col].drop_duplicates().itertuples(index=False, name=None))\n",
    "    values = str(list_of_tuples).replace('[', '').replace(']', '')\n",
    "\n",
    "    # Define the SQL INSERT query with ON CONFLICT DO UPDATE and RETURNING\n",
    "    table_insert = f\"\"\"\n",
    "    INSERT INTO course (cod_course, name, min_workload, tech_axis_fk, course_type_fk)\n",
    "    VALUES {values}\n",
    "    ON CONFLICT (cod_course) DO UPDATE\n",
    "    SET cod_course = EXCLUDED.cod_course\n",
    "    RETURNING cod_course, course_pk;\n",
    "    \"\"\"\n",
    "\n",
    "    cur.execute(table_insert)\n",
    "\n",
    "    # Convert the query result to DataFrame\n",
    "    query_results = cur.fetchall()\n",
    "    result_df = pd.DataFrame(query_results, columns=[\"CODIGO_CURSO\", \"course_pk\"])\n",
    "\n",
    "    # Update the original DataFrame with ID's\n",
    "    df = df.merge(result_df, on=\"CODIGO_CURSO\", how=\"inner\")\n",
    "\n",
    "    return df"
   ],
   "id": "a967c4aea20a3b33",
   "outputs": [],
   "execution_count": 11
  },
  {
   "metadata": {
    "ExecuteTime": {
     "end_time": "2024-12-16T20:11:44.268455Z",
     "start_time": "2024-12-16T20:11:44.264565Z"
    }
   },
   "cell_type": "code",
   "source": [
    "def schools(df,cor):\n",
    "\n",
    "    list_col = ['UNIDADE_DE_ENSINO_NORM', 'city_pk', 'CODIGO_UNIDADE_DE_ENSINO']\n",
    "\n",
    "    list_of_tuples = list(df[list_col].drop_duplicates().itertuples(index=False, name=None))\n",
    "    values = str(list_of_tuples).replace('[', '').replace(']', '')\n",
    "\n",
    "    # Define the SQL INSERT query with ON CONFLICT DO UPDATE and RETURNING\n",
    "    table_insert = f\"\"\"\n",
    "    INSERT INTO schools (name, city_fk, unit_cod)\n",
    "    VALUES {values}\n",
    "    ON CONFLICT (unit_cod) DO UPDATE\n",
    "    SET unit_cod = EXCLUDED.unit_cod\n",
    "    RETURNING unit_cod, schools_pk;\n",
    "    \"\"\"\n",
    "\n",
    "    cur.execute(table_insert)\n",
    "\n",
    "    # Convert the query result to DataFrame\n",
    "    query_results = cur.fetchall()\n",
    "    result_df = pd.DataFrame(query_results, columns=[\"CODIGO_UNIDADE_DE_ENSINO\", \"school_pk\"])\n",
    "\n",
    "    # Update the original DataFrame with ID's\n",
    "    df = df.merge(result_df, on=\"CODIGO_UNIDADE_DE_ENSINO\", how=\"inner\")\n",
    "\n",
    "    return df"
   ],
   "id": "6104ad56e67f8448",
   "outputs": [],
   "execution_count": 12
  },
  {
   "metadata": {
    "ExecuteTime": {
     "end_time": "2024-12-16T20:11:44.313454Z",
     "start_time": "2024-12-16T20:11:44.309087Z"
    }
   },
   "cell_type": "code",
   "source": [
    "def course_school(df,cor):\n",
    "\n",
    "    list_col = ['school_pk', 'course_pk', 'modal_pk', 'CARGA_HORARIA_CURSO', 'STATUS']\n",
    "\n",
    "    list_of_tuples = list(df[list_col].drop_duplicates().itertuples(index=False, name=None))\n",
    "    values = str(list_of_tuples).replace('[', '').replace(']', '')\n",
    "\n",
    "    # Define the SQL INSERT query with ON CONFLICT DO UPDATE and RETURNING\n",
    "    table_insert = f\"\"\"\n",
    "    INSERT INTO course_school(school_fk, course_fk, modal_fk, local_workload, status)\n",
    "    VALUES {values}\n",
    "    ON CONFLICT ON CONSTRAINT unique_course_school\n",
    "    DO UPDATE\n",
    "    SET local_workload = EXCLUDED.local_workload,\n",
    "        status = EXCLUDED.status\n",
    "    RETURNING course_school_pk, school_fk, course_fk, modal_fk;\n",
    "    \"\"\"\n",
    "\n",
    "    cur.execute(table_insert)\n",
    "\n",
    "    # Convert the query result to DataFrame\n",
    "    query_results = cur.fetchall()\n",
    "    result_df = pd.DataFrame(query_results, columns=['course_school_pk', 'school_pk', 'course_pk', 'modal_pk'])\n",
    "\n",
    "    # Update de dataframe with course_school_pk\n",
    "    df = df.merge(result_df, on=['school_pk', 'course_pk', 'modal_pk'], how='inner')\n",
    "\n",
    "    return df\n",
    "\n"
   ],
   "id": "34cccf0ac69f71f7",
   "outputs": [],
   "execution_count": 13
  },
  {
   "metadata": {
    "ExecuteTime": {
     "end_time": "2024-12-16T20:11:44.773663Z",
     "start_time": "2024-12-16T20:11:44.361152Z"
    }
   },
   "cell_type": "code",
   "source": [
    "# Pipelne\n",
    "\n",
    "df, db_config = getDataLocal()\n",
    "df_state = getState()\n",
    "df = newCols(df, df_state)\n",
    "\n",
    "'''\n",
    "conn = psycopg2.connect(**db_config)\n",
    "cur = conn.cursor()\n",
    "\n",
    "df = courseType(df, cur)\n",
    "df = axisTech(df,cur)\n",
    "df = modal(df,cur)\n",
    "df = state(df, cur)\n",
    "df = city(df, cur)\n",
    "df = course(df, cur)\n",
    "df = schools(df, cur)\n",
    "df = course_school(df, cur)\n",
    "\n",
    "conn.commit()\n",
    "conn.close()\n",
    "'''\n"
   ],
   "id": "6a21d33c7ecc0452",
   "outputs": [
    {
     "data": {
      "text/plain": [
       "'\\nconn = psycopg2.connect(**db_config)\\ncur = conn.cursor()\\n\\ndf = courseType(df, cur)\\ndf = axisTech(df,cur)\\ndf = modal(df,cur)\\ndf = state(df, cur)\\ndf = city(df, cur)\\ndf = course(df, cur)\\ndf = schools(df, cur)\\ndf = course_school(df, cur)\\n\\nconn.commit()\\nconn.close()\\n'"
      ]
     },
     "execution_count": 14,
     "metadata": {},
     "output_type": "execute_result"
    }
   ],
   "execution_count": 14
  },
  {
   "metadata": {},
   "cell_type": "markdown",
   "source": "",
   "id": "d561fbb81eb027a3"
  },
  {
   "metadata": {
    "ExecuteTime": {
     "end_time": "2024-12-16T20:11:45.007431Z",
     "start_time": "2024-12-16T20:11:44.792371Z"
    }
   },
   "cell_type": "code",
   "source": [
    "dfx, db_config = getDataLocal()\n",
    "#dfx"
   ],
   "id": "edb47572c1fae0b5",
   "outputs": [],
   "execution_count": 15
  },
  {
   "metadata": {
    "ExecuteTime": {
     "end_time": "2024-12-16T20:11:57.581483Z",
     "start_time": "2024-12-16T20:11:45.027199Z"
    }
   },
   "cell_type": "code",
   "source": [
    "df, db_config = getDataLocal()\n",
    "dfx = getDataURL()\n",
    "a = df.dtypes.to_frame(name='csv').reset_index()\n",
    "b = dfx.dtypes.to_frame(name='urs').reset_index()"
   ],
   "id": "7d4773fe9578a2b4",
   "outputs": [],
   "execution_count": 16
  },
  {
   "metadata": {
    "ExecuteTime": {
     "end_time": "2024-12-16T20:11:57.619159Z",
     "start_time": "2024-12-16T20:11:57.608952Z"
    }
   },
   "cell_type": "code",
   "source": [
    "c = a.merge(b, on='index')\n",
    "a[a['csv'] == 'int64']\n",
    "b[b['urs'] == 'int64']\n",
    "\n",
    "c[c['csv'] != c['urs']]['index'].to_list()"
   ],
   "id": "c6a3f721e5813972",
   "outputs": [
    {
     "data": {
      "text/plain": [
       "['CODIGO_CURSO',\n",
       " 'CARGA_HORARIA_CURSO',\n",
       " 'CODIGO_UNIDADE_DE_ENSINO',\n",
       " 'CODIGO_MUNICIPIO']"
      ]
     },
     "execution_count": 17,
     "metadata": {},
     "output_type": "execute_result"
    }
   ],
   "execution_count": 17
  },
  {
   "metadata": {
    "ExecuteTime": {
     "end_time": "2024-12-16T20:11:57.885775Z",
     "start_time": "2024-12-16T20:11:57.676360Z"
    }
   },
   "cell_type": "code",
   "source": [
    "dfy = dfx.copy(deep=True)\n",
    "dfy = dfy.infer_objects()\n",
    "dfy.info()"
   ],
   "id": "baac06c4f492ad9c",
   "outputs": [
    {
     "name": "stdout",
     "output_type": "stream",
     "text": [
      "<class 'pandas.core.frame.DataFrame'>\n",
      "RangeIndex: 64805 entries, 0 to 64804\n",
      "Data columns (total 12 columns):\n",
      " #   Column                    Non-Null Count  Dtype \n",
      "---  ------                    --------------  ----- \n",
      " 0   NOME_SUBTIPO_DE_CURSOS    64805 non-null  object\n",
      " 1   CODIGO_CURSO              64805 non-null  object\n",
      " 2   CURSO                     64805 non-null  object\n",
      " 3   EIXO_TECNOLOGICO          64805 non-null  object\n",
      " 4   MODALIDADE                64805 non-null  object\n",
      " 5   CARGA_HORARIA_CURSO       64805 non-null  object\n",
      " 6   SITUACAO_ATIVO            64805 non-null  object\n",
      " 7   CODIGO_UNIDADE_DE_ENSINO  64805 non-null  object\n",
      " 8   UNIDADE_DE_ENSINO         64805 non-null  object\n",
      " 9   UF                        64805 non-null  object\n",
      " 10  CODIGO_MUNICIPIO          64805 non-null  object\n",
      " 11  MUNICIPIO                 64805 non-null  object\n",
      "dtypes: object(12)\n",
      "memory usage: 5.9+ MB\n"
     ]
    }
   ],
   "execution_count": 18
  }
 ],
 "metadata": {
  "kernelspec": {
   "display_name": "Python 3",
   "language": "python",
   "name": "python3"
  },
  "language_info": {
   "codemirror_mode": {
    "name": "ipython",
    "version": 2
   },
   "file_extension": ".py",
   "mimetype": "text/x-python",
   "name": "python",
   "nbconvert_exporter": "python",
   "pygments_lexer": "ipython2",
   "version": "2.7.6"
  }
 },
 "nbformat": 4,
 "nbformat_minor": 5
}
